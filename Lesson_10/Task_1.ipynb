{
 "cells": [
  {
   "cell_type": "markdown",
   "source": [
    "# Задача 44\n",
    "В ячейке ниже представлен код генерирующий DataFrame, которая состоит всего\n",
    "из 1 столбца. Ваша задача перевести его в one hot вид. Сможете ли вы это сделать без\n",
    "get_dummies?\n",
    "import random\n",
    "lst = ['robot'] * 10\n",
    "lst += ['human'] * 10\n",
    "random.shuffle(lst)\n",
    "data = pd.DataFrame({'whoAmI':lst})\n",
    "data.head()"
   ],
   "metadata": {
    "collapsed": false
   }
  },
  {
   "cell_type": "code",
   "execution_count": 1,
   "outputs": [
    {
     "data": {
      "text/plain": "   whoAmI\n0   human\n1   robot\n2   robot\n3   human\n4   robot\n5   human\n6   human\n7   human\n8   human\n9   robot\n10  robot\n11  human\n12  human\n13  robot\n14  robot\n15  robot\n16  human\n17  human\n18  robot\n19  robot",
      "text/html": "<div>\n<style scoped>\n    .dataframe tbody tr th:only-of-type {\n        vertical-align: middle;\n    }\n\n    .dataframe tbody tr th {\n        vertical-align: top;\n    }\n\n    .dataframe thead th {\n        text-align: right;\n    }\n</style>\n<table border=\"1\" class=\"dataframe\">\n  <thead>\n    <tr style=\"text-align: right;\">\n      <th></th>\n      <th>whoAmI</th>\n    </tr>\n  </thead>\n  <tbody>\n    <tr>\n      <th>0</th>\n      <td>human</td>\n    </tr>\n    <tr>\n      <th>1</th>\n      <td>robot</td>\n    </tr>\n    <tr>\n      <th>2</th>\n      <td>robot</td>\n    </tr>\n    <tr>\n      <th>3</th>\n      <td>human</td>\n    </tr>\n    <tr>\n      <th>4</th>\n      <td>robot</td>\n    </tr>\n    <tr>\n      <th>5</th>\n      <td>human</td>\n    </tr>\n    <tr>\n      <th>6</th>\n      <td>human</td>\n    </tr>\n    <tr>\n      <th>7</th>\n      <td>human</td>\n    </tr>\n    <tr>\n      <th>8</th>\n      <td>human</td>\n    </tr>\n    <tr>\n      <th>9</th>\n      <td>robot</td>\n    </tr>\n    <tr>\n      <th>10</th>\n      <td>robot</td>\n    </tr>\n    <tr>\n      <th>11</th>\n      <td>human</td>\n    </tr>\n    <tr>\n      <th>12</th>\n      <td>human</td>\n    </tr>\n    <tr>\n      <th>13</th>\n      <td>robot</td>\n    </tr>\n    <tr>\n      <th>14</th>\n      <td>robot</td>\n    </tr>\n    <tr>\n      <th>15</th>\n      <td>robot</td>\n    </tr>\n    <tr>\n      <th>16</th>\n      <td>human</td>\n    </tr>\n    <tr>\n      <th>17</th>\n      <td>human</td>\n    </tr>\n    <tr>\n      <th>18</th>\n      <td>robot</td>\n    </tr>\n    <tr>\n      <th>19</th>\n      <td>robot</td>\n    </tr>\n  </tbody>\n</table>\n</div>"
     },
     "execution_count": 1,
     "metadata": {},
     "output_type": "execute_result"
    }
   ],
   "source": [
    "import pandas as pd\n",
    "import random\n",
    "import numpy as np\n",
    "lst = ['robot'] * 10\n",
    "lst += ['human'] * 10\n",
    "random.shuffle(lst)\n",
    "data = pd.DataFrame({'whoAmI':lst})\n",
    "data"
   ],
   "metadata": {
    "collapsed": false
   }
  },
  {
   "cell_type": "code",
   "execution_count": 2,
   "outputs": [
    {
     "data": {
      "text/plain": "   whoAmI human robot\n0   human     1     0\n1   robot     0     1\n2   robot     0     1\n3   human     1     0\n4   robot     0     1\n5   human     1     0\n6   human     1     0\n7   human     1     0\n8   human     1     0\n9   robot     0     1\n10  robot     0     1\n11  human     1     0\n12  human     1     0\n13  robot     0     1\n14  robot     0     1\n15  robot     0     1\n16  human     1     0\n17  human     1     0\n18  robot     0     1\n19  robot     0     1",
      "text/html": "<div>\n<style scoped>\n    .dataframe tbody tr th:only-of-type {\n        vertical-align: middle;\n    }\n\n    .dataframe tbody tr th {\n        vertical-align: top;\n    }\n\n    .dataframe thead th {\n        text-align: right;\n    }\n</style>\n<table border=\"1\" class=\"dataframe\">\n  <thead>\n    <tr style=\"text-align: right;\">\n      <th></th>\n      <th>whoAmI</th>\n      <th>human</th>\n      <th>robot</th>\n    </tr>\n  </thead>\n  <tbody>\n    <tr>\n      <th>0</th>\n      <td>human</td>\n      <td>1</td>\n      <td>0</td>\n    </tr>\n    <tr>\n      <th>1</th>\n      <td>robot</td>\n      <td>0</td>\n      <td>1</td>\n    </tr>\n    <tr>\n      <th>2</th>\n      <td>robot</td>\n      <td>0</td>\n      <td>1</td>\n    </tr>\n    <tr>\n      <th>3</th>\n      <td>human</td>\n      <td>1</td>\n      <td>0</td>\n    </tr>\n    <tr>\n      <th>4</th>\n      <td>robot</td>\n      <td>0</td>\n      <td>1</td>\n    </tr>\n    <tr>\n      <th>5</th>\n      <td>human</td>\n      <td>1</td>\n      <td>0</td>\n    </tr>\n    <tr>\n      <th>6</th>\n      <td>human</td>\n      <td>1</td>\n      <td>0</td>\n    </tr>\n    <tr>\n      <th>7</th>\n      <td>human</td>\n      <td>1</td>\n      <td>0</td>\n    </tr>\n    <tr>\n      <th>8</th>\n      <td>human</td>\n      <td>1</td>\n      <td>0</td>\n    </tr>\n    <tr>\n      <th>9</th>\n      <td>robot</td>\n      <td>0</td>\n      <td>1</td>\n    </tr>\n    <tr>\n      <th>10</th>\n      <td>robot</td>\n      <td>0</td>\n      <td>1</td>\n    </tr>\n    <tr>\n      <th>11</th>\n      <td>human</td>\n      <td>1</td>\n      <td>0</td>\n    </tr>\n    <tr>\n      <th>12</th>\n      <td>human</td>\n      <td>1</td>\n      <td>0</td>\n    </tr>\n    <tr>\n      <th>13</th>\n      <td>robot</td>\n      <td>0</td>\n      <td>1</td>\n    </tr>\n    <tr>\n      <th>14</th>\n      <td>robot</td>\n      <td>0</td>\n      <td>1</td>\n    </tr>\n    <tr>\n      <th>15</th>\n      <td>robot</td>\n      <td>0</td>\n      <td>1</td>\n    </tr>\n    <tr>\n      <th>16</th>\n      <td>human</td>\n      <td>1</td>\n      <td>0</td>\n    </tr>\n    <tr>\n      <th>17</th>\n      <td>human</td>\n      <td>1</td>\n      <td>0</td>\n    </tr>\n    <tr>\n      <th>18</th>\n      <td>robot</td>\n      <td>0</td>\n      <td>1</td>\n    </tr>\n    <tr>\n      <th>19</th>\n      <td>robot</td>\n      <td>0</td>\n      <td>1</td>\n    </tr>\n  </tbody>\n</table>\n</div>"
     },
     "execution_count": 2,
     "metadata": {},
     "output_type": "execute_result"
    }
   ],
   "source": [
    "data['human'] = np.where(data['whoAmI'] == 'human', '1', '0')\n",
    "data['robot'] = np.where(data['whoAmI'] == 'robot', '1', '0')\n",
    "data"
   ],
   "metadata": {
    "collapsed": false
   }
  },
  {
   "cell_type": "code",
   "execution_count": null,
   "outputs": [],
   "source": [],
   "metadata": {
    "collapsed": false
   }
  }
 ],
 "metadata": {
  "kernelspec": {
   "display_name": "Python 3",
   "language": "python",
   "name": "python3"
  },
  "language_info": {
   "codemirror_mode": {
    "name": "ipython",
    "version": 2
   },
   "file_extension": ".py",
   "mimetype": "text/x-python",
   "name": "python",
   "nbconvert_exporter": "python",
   "pygments_lexer": "ipython2",
   "version": "2.7.6"
  }
 },
 "nbformat": 4,
 "nbformat_minor": 0
}
