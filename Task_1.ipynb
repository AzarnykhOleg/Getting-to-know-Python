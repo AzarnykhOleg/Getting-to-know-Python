{
  "nbformat": 4,
  "nbformat_minor": 0,
  "metadata": {
    "colab": {
      "provenance": [],
      "authorship_tag": "ABX9TyOwO0WttGABUe9H/iLK8tSW",
      "include_colab_link": true
    },
    "kernelspec": {
      "name": "python3",
      "display_name": "Python 3"
    },
    "language_info": {
      "name": "python"
    }
  },
  "cells": [
    {
      "cell_type": "markdown",
      "metadata": {
        "id": "view-in-github",
        "colab_type": "text"
      },
      "source": [
        "<a href=\"https://colab.research.google.com/github/AzarnykhOleg/Getting-to-know-Python/blob/Lesson_9/Task_1.ipynb\" target=\"_parent\"><img src=\"https://colab.research.google.com/assets/colab-badge.svg\" alt=\"Open In Colab\"/></a>"
      ]
    },
    {
      "cell_type": "code",
      "execution_count": 1,
      "metadata": {
        "id": "qdgcdSF-YBCD"
      },
      "outputs": [],
      "source": [
        "# Библиотека для работы с табличными данными\n",
        "import pandas as pd"
      ]
    },
    {
      "cell_type": "markdown",
      "source": [
        "# Задача 40"
      ],
      "metadata": {
        "id": "iVOe5BTHYTbs"
      }
    },
    {
      "cell_type": "markdown",
      "source": [
        "Работать с файлом california_housing_train.csv, который находится в папке\n",
        "sample_data. Определить среднюю стоимость дома, где кол-во людей от 0 до 500 (population)"
      ],
      "metadata": {
        "id": "YyV35bx-YbAV"
      }
    },
    {
      "cell_type": "code",
      "source": [],
      "metadata": {
        "id": "TNpqkuQsYir-"
      },
      "execution_count": null,
      "outputs": []
    }
  ]
}